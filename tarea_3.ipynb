{
  "nbformat": 4,
  "nbformat_minor": 0,
  "metadata": {
    "colab": {
      "provenance": [],
      "authorship_tag": "ABX9TyOySvn2h1eU/ApRtGb60TDp",
      "include_colab_link": true
    },
    "kernelspec": {
      "name": "python3",
      "display_name": "Python 3"
    },
    "language_info": {
      "name": "python"
    }
  },
  "cells": [
    {
      "cell_type": "markdown",
      "metadata": {
        "id": "view-in-github",
        "colab_type": "text"
      },
      "source": [
        "<a href=\"https://colab.research.google.com/github/ct24-saretmedina/Codigo-del-esp32-grafica/blob/main/tarea_3.ipynb\" target=\"_parent\"><img src=\"https://colab.research.google.com/assets/colab-badge.svg\" alt=\"Open In Colab\"/></a>"
      ]
    },
    {
      "cell_type": "code",
      "execution_count": 2,
      "metadata": {
        "colab": {
          "base_uri": "https://localhost:8080/"
        },
        "id": "DwskjqcUuREp",
        "outputId": "a361276f-577b-419d-ca7f-38727dea5b26"
      },
      "outputs": [
        {
          "output_type": "stream",
          "name": "stdout",
          "text": [
            "Nombre completo: Saret Medina\n",
            "Año de nacimiento: 2009\n",
            "Padre: Jose Medina, edad: 42\n",
            "Madre: Josefina Hernandez, edad: 38\n",
            "Número de hermanos: 2\n",
            "Promedio edad hermanos: 18.0\n",
            "Suma de edades de los padres: 80\n",
            "Diferencia entre edades de los padres: 4\n"
          ]
        }
      ],
      "source": [
        "# Datos personales\n",
        "nombre = \"Saret\"\n",
        "apellido = \"Medina\"\n",
        "edad = 16\n",
        "ciudad = \"Panamá Oeste\"\n",
        "\n",
        "# Calcular año de nacimiento\n",
        "año_actual = 2025\n",
        "año_nacimiento = año_actual - edad\n",
        "\n",
        "# Datos familiares\n",
        "padre = \"Jose Medina\"\n",
        "edad_padre = 42\n",
        "madre = \"Josefina Hernandez\"\n",
        "edad_madre =38\n",
        "hermanos = 2\n",
        "edad_hermano1 = 6\n",
        "edad_hermano2 = 30\n",
        "\n",
        "# Operaciones matemáticas\n",
        "suma_edades_padres = edad_padre + edad_madre\n",
        "promedio_edad_hermanos = (edad_hermano1 + edad_hermano2) / hermanos\n",
        "diferencia = edad_padre - edad_madre\n",
        "\n",
        "# Mostrar la tarjeta\n",
        "print(\"Nombre completo:\", nombre, apellido)\n",
        "print(\"Año de nacimiento:\", año_nacimiento)\n",
        "print(f\"Padre: {padre}, edad: {edad_padre}\")\n",
        "print(f\"Madre: {madre}, edad: {edad_madre}\")\n",
        "print(\"Número de hermanos:\", hermanos)\n",
        "print(\"Promedio edad hermanos:\", promedio_edad_hermanos)\n",
        "print(\"Suma de edades de los padres:\", suma_edades_padres)\n",
        "print(\"Diferencia entre edades de los padres:\", diferencia)"
      ]
    }
  ]
}