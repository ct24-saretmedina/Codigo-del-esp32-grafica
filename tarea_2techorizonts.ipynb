{
  "nbformat": 4,
  "nbformat_minor": 0,
  "metadata": {
    "colab": {
      "provenance": [],
      "authorship_tag": "ABX9TyPtsKai039bQd86kU5KkSXH",
      "include_colab_link": true
    },
    "kernelspec": {
      "name": "python3",
      "display_name": "Python 3"
    },
    "language_info": {
      "name": "python"
    }
  },
  "cells": [
    {
      "cell_type": "markdown",
      "metadata": {
        "id": "view-in-github",
        "colab_type": "text"
      },
      "source": [
        "<a href=\"https://colab.research.google.com/github/ct24-saretmedina/Codigo-del-esp32-grafica/blob/main/tarea_2techorizonts.ipynb\" target=\"_parent\"><img src=\"https://colab.research.google.com/assets/colab-badge.svg\" alt=\"Open In Colab\"/></a>"
      ]
    },
    {
      "cell_type": "code",
      "execution_count": null,
      "metadata": {
        "id": "O6UoZhbRxkdo"
      },
      "outputs": [],
      "source": []
    },
    {
      "cell_type": "code",
      "source": [
        "# === MI TARJETA PERSONAL ===\n",
        "nombre = \"Saret\"\n",
        "edad = 16\n",
        "ciudad = \"La chorrera\"\n",
        "pasatiempo = \"DIbujar\"\n",
        "años_restantes = 18 - edad\n",
        "\n",
        "print(\"=== MI TARJETA PERSONAL ===\")\n",
        "print(\"Nombre:\", nombre)\n",
        "print(\"Edad:\", edad, \"años\")\n",
        "print(\"Ciudad:\", ciudad)\n",
        "print(\"Pasatiempo favorito:\", pasatiempo)\n",
        "print(\"Años hasta cumplir 18:\", años_restantes)\n",
        "\n",
        "\n"
      ],
      "metadata": {
        "colab": {
          "base_uri": "https://localhost:8080/"
        },
        "id": "BJy2d9Htxt6X",
        "outputId": "f4120628-e0ed-43e1-9b25-2face78f706c"
      },
      "execution_count": 4,
      "outputs": [
        {
          "output_type": "stream",
          "name": "stdout",
          "text": [
            "=== MI TARJETA PERSONAL ===\n",
            "Nombre: Saret\n",
            "Edad: 16 años\n",
            "Ciudad: La chorrera\n",
            "Pasatiempo favorito: DIbujar\n",
            "Años hasta cumplir 18: 2\n"
          ]
        }
      ]
    }
  ]
}